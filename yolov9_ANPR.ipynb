{
 "cells": [
  {
   "cell_type": "code",
   "execution_count": null,
   "id": "00f2a0b6-1ecd-4766-82ba-5618e387cfcb",
   "metadata": {},
   "outputs": [],
   "source": [
    "#!git clone https://github.com/WongKinYiu/yolov9.git\n",
    "%cd yolov9\n",
    "!pip install -r requirements.txt"
   ]
  },
  {
   "cell_type": "code",
   "execution_count": null,
   "id": "cda671dc-fb2a-4d23-bbe4-3061a1ff2dd2",
   "metadata": {},
   "outputs": [],
   "source": [
    "!python --version"
   ]
  },
  {
   "cell_type": "code",
   "execution_count": null,
   "id": "6e5fc059-4440-4bba-b813-bef5f14bec8e",
   "metadata": {},
   "outputs": [],
   "source": [
    "import torch\n",
    "print(torch.__version__)"
   ]
  },
  {
   "cell_type": "code",
   "execution_count": null,
   "id": "06b6a899-1f3b-4b82-a98c-d862ebbd4b1e",
   "metadata": {},
   "outputs": [],
   "source": [
    "import torch\n",
    "\n",
    "# Check if CUDA is available\n",
    "if torch.cuda.is_available():\n",
    "    print(\"CUDA is available. Device name:\", torch.cuda.get_device_name(0))\n",
    "else:\n",
    "    print(\"CUDA is not available. Check your installation.\")\n"
   ]
  },
  {
   "cell_type": "code",
   "execution_count": null,
   "id": "6bdf0eeb",
   "metadata": {},
   "outputs": [],
   "source": [
    "!pip3 install torch torchvision torchaudio --index-url https://download.pytorch.org/whl/cu121"
   ]
  },
  {
   "cell_type": "code",
   "execution_count": null,
   "id": "224a6fe8-2197-41e0-a785-c970415f58d1",
   "metadata": {},
   "outputs": [],
   "source": [
    "!python yolov9/train_dual.py \\\n",
    "    --workers 8 \\\n",
    "    --batch-size 8 \\\n",
    "    --imgsz 640 \\\n",
    "    --epochs 200 \\\n",
    "    --data yolov9/data.yaml \\\n",
    "    --weights yolov9-e.pt \\\n",
    "    --device 1 \\\n",
    "    --cfg yolov9/models/detect/yolov9-e.yaml \\\n",
    "    --hyp yolov9/data/hyps/hyp.scratch-high.yaml"
   ]
  },
  {
   "cell_type": "code",
   "execution_count": null,
   "id": "a49d77a7",
   "metadata": {},
   "outputs": [],
   "source": [
    "!python yolov9/detect.py --conf 0.1 --device 0 --weights yolov9/runs/train/exp/weights/best.pt --source ../3.jpg"
   ]
  },
  {
   "cell_type": "code",
   "execution_count": null,
   "id": "9e6de764",
   "metadata": {},
   "outputs": [],
   "source": [
    "!python yolov9/anpr_detect.py --conf 0.1 --device 0 --weights yolov9/runs/train/exp/weights/best.pt --source ./Test/4.jpg"
   ]
  }
 ],
 "metadata": {
  "kernelspec": {
   "display_name": "Python 3 (ipykernel)",
   "language": "python",
   "name": "python3"
  },
  "language_info": {
   "codemirror_mode": {
    "name": "ipython",
    "version": 3
   },
   "file_extension": ".py",
   "mimetype": "text/x-python",
   "name": "python",
   "nbconvert_exporter": "python",
   "pygments_lexer": "ipython3",
   "version": "3.12.4"
  }
 },
 "nbformat": 4,
 "nbformat_minor": 5
}
